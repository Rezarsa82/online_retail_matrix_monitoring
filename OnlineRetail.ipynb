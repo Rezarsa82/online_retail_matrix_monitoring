{
  "nbformat": 4,
  "nbformat_minor": 0,
  "metadata": {
    "colab": {
      "provenance": [],
      "toc_visible": true,
      "authorship_tag": "ABX9TyNIA4oAnIvYg2P4pPFTLIki",
      "include_colab_link": true
    },
    "kernelspec": {
      "name": "python3",
      "display_name": "Python 3"
    },
    "language_info": {
      "name": "python"
    }
  },
  "cells": [
    {
      "cell_type": "markdown",
      "metadata": {
        "id": "view-in-github",
        "colab_type": "text"
      },
      "source": [
        "<a href=\"https://colab.research.google.com/github/Rezarsa82/online_retail_matrix_monitoring/blob/main/OnlineRetail.ipynb\" target=\"_parent\"><img src=\"https://colab.research.google.com/assets/colab-badge.svg\" alt=\"Open In Colab\"/></a>"
      ]
    },
    {
      "cell_type": "code",
      "execution_count": null,
      "metadata": {
        "colab": {
          "base_uri": "https://localhost:8080/"
        },
        "id": "3I-3NRPwgxKC",
        "outputId": "75ca79eb-762b-43d0-804e-c8410c98125c"
      },
      "outputs": [
        {
          "output_type": "stream",
          "name": "stdout",
          "text": [
            "['Online Retail.xlsx']\n",
            "Index(['InvoiceNo', 'StockCode', 'Description', 'Quantity', 'InvoiceDate',\n",
            "       'UnitPrice', 'CustomerID', 'Country'],\n",
            "      dtype='object')\n",
            "  InvoiceNo StockCode                          Description  Quantity  \\\n",
            "0    536365    85123A   WHITE HANGING HEART T-LIGHT HOLDER         6   \n",
            "1    536365     71053                  WHITE METAL LANTERN         6   \n",
            "2    536365    84406B       CREAM CUPID HEARTS COAT HANGER         8   \n",
            "3    536365    84029G  KNITTED UNION FLAG HOT WATER BOTTLE         6   \n",
            "4    536365    84029E       RED WOOLLY HOTTIE WHITE HEART.         6   \n",
            "\n",
            "          InvoiceDate  UnitPrice  CustomerID         Country  \n",
            "0 2010-12-01 08:26:00       2.55     17850.0  United Kingdom  \n",
            "1 2010-12-01 08:26:00       3.39     17850.0  United Kingdom  \n",
            "2 2010-12-01 08:26:00       2.75     17850.0  United Kingdom  \n",
            "3 2010-12-01 08:26:00       3.39     17850.0  United Kingdom  \n",
            "4 2010-12-01 08:26:00       3.39     17850.0  United Kingdom  \n"
          ]
        }
      ],
      "source": [
        "import pandas as pd\n",
        "import zipfile\n",
        "import requests\n",
        "from io import BytesIO\n",
        "\n",
        "url = \"https://archive.ics.uci.edu/static/public/352/online+retail.zip\"\n",
        "\n",
        "r = requests.get(url)\n",
        "zip_file = zipfile.ZipFile(BytesIO(r.content))\n",
        "\n",
        "print(zip_file.namelist())  # ['Online Retail.xlsx']\n",
        "\n",
        "excel_file = zip_file.open(\"Online Retail.xlsx\")\n",
        "df = pd.read_excel(excel_file)\n",
        "\n",
        "print(df.columns)\n",
        "print(df.head())"
      ]
    },
    {
      "cell_type": "code",
      "source": [
        "print(df.isna().sum())\n",
        "df = df.dropna()\n",
        "print(df.isna().sum())"
      ],
      "metadata": {
        "colab": {
          "base_uri": "https://localhost:8080/"
        },
        "id": "rJcVXKOthQK7",
        "outputId": "67d876d8-4c4c-48e1-b4d8-bfa4aec90b23"
      },
      "execution_count": null,
      "outputs": [
        {
          "output_type": "stream",
          "name": "stdout",
          "text": [
            "InvoiceNo           0\n",
            "StockCode           0\n",
            "Description      1454\n",
            "Quantity            0\n",
            "InvoiceDate         0\n",
            "UnitPrice           0\n",
            "CustomerID     135080\n",
            "Country             0\n",
            "dtype: int64\n",
            "InvoiceNo      0\n",
            "StockCode      0\n",
            "Description    0\n",
            "Quantity       0\n",
            "InvoiceDate    0\n",
            "UnitPrice      0\n",
            "CustomerID     0\n",
            "Country        0\n",
            "dtype: int64\n"
          ]
        }
      ]
    },
    {
      "cell_type": "code",
      "source": [
        "df = df[df[\"Quantity\"] > 0]\n",
        "print((df[\"Quantity\"] <= 0).sum())\n",
        "num_cancelled = df[df[\"InvoiceNo\"].astype(str).str.startswith(\"C\")].shape[0]\n",
        "print(\"Cannelled:\", num_cancelled)\n",
        "df_sorted = df.sort_values('InvoiceDate')"
      ],
      "metadata": {
        "colab": {
          "base_uri": "https://localhost:8080/"
        },
        "id": "f2QjvzIEhzj-",
        "outputId": "781e5d81-10ac-4f56-d407-e97ec624c969"
      },
      "execution_count": null,
      "outputs": [
        {
          "output_type": "stream",
          "name": "stdout",
          "text": [
            "0\n",
            "Cannelled: 0\n"
          ]
        }
      ]
    },
    {
      "cell_type": "code",
      "source": [
        "item_transaction_matrix = df_sorted.groupby(['InvoiceNo', 'StockCode'])['Quantity'].sum().unstack().fillna(0)\n",
        "\n",
        "item_transaction_matrix[item_transaction_matrix > 0] = 1\n",
        "\n",
        "print(item_transaction_matrix.head())"
      ],
      "metadata": {
        "colab": {
          "base_uri": "https://localhost:8080/"
        },
        "id": "9g6IOiS_h8mk",
        "outputId": "b12fa76f-7e2d-455e-9e92-29fcd29f3fcf"
      },
      "execution_count": null,
      "outputs": [
        {
          "output_type": "stream",
          "name": "stdout",
          "text": [
            "StockCode  10002  10080  10120  10125  10133  10135  11001  15030  15034  \\\n",
            "InvoiceNo                                                                  \n",
            "536365       0.0    0.0    0.0    0.0    0.0    0.0    0.0    0.0    0.0   \n",
            "536366       0.0    0.0    0.0    0.0    0.0    0.0    0.0    0.0    0.0   \n",
            "536367       0.0    0.0    0.0    0.0    0.0    0.0    0.0    0.0    0.0   \n",
            "536368       0.0    0.0    0.0    0.0    0.0    0.0    0.0    0.0    0.0   \n",
            "536369       0.0    0.0    0.0    0.0    0.0    0.0    0.0    0.0    0.0   \n",
            "\n",
            "StockCode  15036  ...  90214V  90214W  90214Y  90214Z  BANK CHARGES   C2  DOT  \\\n",
            "InvoiceNo         ...                                                           \n",
            "536365       0.0  ...     0.0     0.0     0.0     0.0           0.0  0.0  0.0   \n",
            "536366       0.0  ...     0.0     0.0     0.0     0.0           0.0  0.0  0.0   \n",
            "536367       0.0  ...     0.0     0.0     0.0     0.0           0.0  0.0  0.0   \n",
            "536368       0.0  ...     0.0     0.0     0.0     0.0           0.0  0.0  0.0   \n",
            "536369       0.0  ...     0.0     0.0     0.0     0.0           0.0  0.0  0.0   \n",
            "\n",
            "StockCode    M  PADS  POST  \n",
            "InvoiceNo                   \n",
            "536365     0.0   0.0   0.0  \n",
            "536366     0.0   0.0   0.0  \n",
            "536367     0.0   0.0   0.0  \n",
            "536368     0.0   0.0   0.0  \n",
            "536369     0.0   0.0   0.0  \n",
            "\n",
            "[5 rows x 3665 columns]\n"
          ]
        }
      ]
    },
    {
      "cell_type": "code",
      "source": [
        "import random\n",
        "\n",
        "random_invoices = random.sample(list(item_transaction_matrix.index), 5)\n",
        "\n",
        "for invoice in random_invoices:\n",
        "    purchased_items = item_transaction_matrix.loc[invoice][item_transaction_matrix.loc[invoice] == 1]\n",
        "    print(f\"ّInvoice {invoice}: {len(purchased_items)} Products\")\n",
        "    if len(purchased_items) > 0:\n",
        "        print(f\"   Products: {list(purchased_items.index[:5])}\")"
      ],
      "metadata": {
        "colab": {
          "base_uri": "https://localhost:8080/"
        },
        "id": "KkyUa60ekdBh",
        "outputId": "d1436025-a16a-4806-ce60-9d45d3e5d845"
      },
      "execution_count": null,
      "outputs": [
        {
          "output_type": "stream",
          "name": "stdout",
          "text": [
            "ّInvoice 574534: 16 Products\n",
            "   Products: [16237, 20685, 21498, 21499, 21500]\n",
            "ّInvoice 551234: 3 Products\n",
            "   Products: [21897, 21898, 22459]\n",
            "ّInvoice 561909: 8 Products\n",
            "   Products: [15036, 20725, 21876, 21877, 21914]\n",
            "ّInvoice 556520: 19 Products\n",
            "   Products: [21381, 21468, 22197, 22222, 22551]\n",
            "ّInvoice 539041: 25 Products\n",
            "   Products: [17003, 20725, 21165, 21166, 21175]\n"
          ]
        }
      ]
    },
    {
      "cell_type": "code",
      "source": [
        "batch_size = 500\n",
        "batches = []\n",
        "\n",
        "for i in range(0, len(item_transaction_matrix), batch_size):\n",
        "    batch_matrix = item_transaction_matrix.iloc[i : i + batch_size]\n",
        "    batches.append(batch_matrix)\n",
        "\n",
        "print(f\"Total batches: {len(batches)}\")\n",
        "print(f\"First batch shape: {batches[0].shape}\")\n",
        "print(f\"Last batch shape: {batches[-1].shape}\")"
      ],
      "metadata": {
        "colab": {
          "base_uri": "https://localhost:8080/"
        },
        "id": "LewoGm5akwUz",
        "outputId": "2b50e137-4a86-425f-e5ae-72fe91d3e363"
      },
      "execution_count": null,
      "outputs": [
        {
          "output_type": "stream",
          "name": "stdout",
          "text": [
            "Total batches: 38\n",
            "First batch shape: (500, 3665)\n",
            "Last batch shape: (36, 3665)\n"
          ]
        }
      ]
    },
    {
      "cell_type": "code",
      "source": [
        "import numpy as np\n",
        "\n",
        "class FrequentDirections:\n",
        "    def __init__(self, ell):\n",
        "        self.ell = ell\n",
        "        self.d = None\n",
        "        self.sketch = None\n",
        "        self.next_row = 0\n",
        "\n",
        "    def fit(self, data_stream):\n",
        "        for row in data_stream:\n",
        "            self._update(row)\n",
        "\n",
        "    def _is_full(self):\n",
        "        return self.next_row >= self.ell\n",
        "\n",
        "    def _update(self, row):\n",
        "        row = np.array(row)\n",
        "\n",
        "        if self.d is None:\n",
        "            self.d = len(row)\n",
        "            self.sketch = np.zeros((self.ell, self.d))\n",
        "            self.next_row = 0\n",
        "\n",
        "        if self._is_full():\n",
        "            self._compress()\n",
        "\n",
        "        self.sketch[self.next_row] = row\n",
        "        self.next_row += 1\n",
        "\n",
        "    def _compress(self):\n",
        "        U, sigma, Vt = np.linalg.svd(self.sketch, full_matrices=False)\n",
        "\n",
        "        delta_sq = sigma[self.ell // 2 - 1] ** 2\n",
        "\n",
        "        new_sigma_sq = np.maximum(sigma ** 2 - delta_sq, 0)\n",
        "        new_sigma = np.sqrt(new_sigma_sq)\n",
        "\n",
        "        self.sketch = np.diag(new_sigma) @ Vt\n",
        "\n",
        "        self.next_row = self.ell // 2\n",
        "\n",
        "    def get_sketch(self):\n",
        "        return self.sketch\n"
      ],
      "metadata": {
        "id": "Oc9vG1gZlq0-"
      },
      "execution_count": 2,
      "outputs": []
    },
    {
      "cell_type": "code",
      "source": [
        "import numpy as np\n",
        "\n",
        "def test_fd_basic_shape():\n",
        "    print(\"Test 1: Basic shape check\")\n",
        "    data = np.random.randn(100, 10)\n",
        "    fd = FrequentDirections(ell=5)\n",
        "    fd.fit(data)\n",
        "    B = fd.get_sketch()\n",
        "\n",
        "    assert B.shape == (5, 10), f\"Expected (5, 10), got {B.shape}\"\n",
        "    print(\"✅ Passed: Output shape is correct.\")\n",
        "\n",
        "\n",
        "def test_fd_reduces_dimension():\n",
        "    print(\"Test 2: Dimensionality reduction consistency\")\n",
        "    data = np.random.randn(200, 20)\n",
        "    ell = 8\n",
        "    fd = FrequentDirections(ell)\n",
        "    fd.fit(data)\n",
        "    B = fd.get_sketch()\n",
        "\n",
        "    rank_B = np.linalg.matrix_rank(B)\n",
        "    assert rank_B <= ell, f\"Rank too high: {rank_B} > {ell}\"\n",
        "    print(\"✅ Passed: Sketch rank is within expected limit.\")\n",
        "\n",
        "\n",
        "def test_fd_variance_preservation():\n",
        "    print(\"Test 3: Variance preservation (A^T A ≈ B^T B)\")\n",
        "    np.random.seed(0)\n",
        "    data = np.random.randn(500, 50)\n",
        "    ell = 20\n",
        "    fd = FrequentDirections(ell)\n",
        "    fd.fit(data)\n",
        "    B = fd.get_sketch()\n",
        "\n",
        "    A_cov = data.T @ data\n",
        "    B_cov = B.T @ B\n",
        "    diff = np.linalg.norm(A_cov - B_cov, 'fro')\n",
        "\n",
        "    print(f\"‣ Frobenius norm difference: {diff:.4f}\")\n",
        "    assert diff < np.linalg.norm(A_cov, 'fro'), \"Sketch too inaccurate!\"\n",
        "    print(\"✅ Passed: Sketch preserves variance reasonably.\")\n",
        "\n",
        "\n",
        "def test_fd_on_stream():\n",
        "    print(\"Test 4: Streaming consistency\")\n",
        "    np.random.seed(42)\n",
        "    data = np.random.randn(1000, 30)\n",
        "    fd = FrequentDirections(ell=15)\n",
        "\n",
        "    for i in range(0, len(data), 10):\n",
        "        fd.fit(data[i:i+10])\n",
        "\n",
        "    B = fd.get_sketch()\n",
        "    assert not np.allclose(B, 0), \"Sketch should not be all zeros.\"\n",
        "    print(\"✅ Passed: Streaming updates work correctly.\")\n",
        "\n",
        "\n",
        "def test_fd_repeatability():\n",
        "    print(\"Test 5: Determinism\")\n",
        "    np.random.seed(123)\n",
        "    data = np.random.randn(300, 20)\n",
        "    ell = 10\n",
        "\n",
        "    fd1 = FrequentDirections(ell)\n",
        "    fd1.fit(data)\n",
        "    B1 = fd1.get_sketch()\n",
        "\n",
        "    fd2 = FrequentDirections(ell)\n",
        "    fd2.fit(data)\n",
        "    B2 = fd2.get_sketch()\n",
        "\n",
        "    assert np.allclose(B1, B2), \"Frequent Directions should be deterministic.\"\n",
        "    print(\"✅ Passed: Algorithm is deterministic.\")\n",
        "\n",
        "\n",
        "test_fd_basic_shape()\n",
        "test_fd_reduces_dimension()\n",
        "test_fd_variance_preservation()\n",
        "test_fd_on_stream()\n",
        "test_fd_repeatability()\n",
        "print(\"\\nAll tests passed successfully!\")\n"
      ],
      "metadata": {
        "colab": {
          "base_uri": "https://localhost:8080/"
        },
        "id": "SA0PzbDbz1lI",
        "outputId": "53b43af0-c664-4aba-9377-ab47e32f3bea"
      },
      "execution_count": 4,
      "outputs": [
        {
          "output_type": "stream",
          "name": "stdout",
          "text": [
            "Test 1: Basic shape check\n",
            "✅ Passed: Output shape is correct.\n",
            "Test 2: Dimensionality reduction consistency\n",
            "✅ Passed: Sketch rank is within expected limit.\n",
            "Test 3: Variance preservation (A^T A ≈ B^T B)\n",
            "‣ Frobenius norm difference: 3525.2132\n",
            "✅ Passed: Sketch preserves variance reasonably.\n",
            "Test 4: Streaming consistency\n",
            "✅ Passed: Streaming updates work correctly.\n",
            "Test 5: Determinism\n",
            "✅ Passed: Algorithm is deterministic.\n",
            "\n",
            "All tests passed successfully!\n"
          ]
        }
      ]
    },
    {
      "cell_type": "code",
      "source": [],
      "metadata": {
        "id": "UYzyH0NE3CSt"
      },
      "execution_count": null,
      "outputs": []
    }
  ]
}